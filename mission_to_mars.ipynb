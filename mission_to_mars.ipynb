{
 "cells": [
  {
   "cell_type": "code",
   "execution_count": 3,
   "id": "182208df-d86f-4b75-b5bb-8f5e71597159",
   "metadata": {},
   "outputs": [],
   "source": [
    "from splinter import Browser\n",
    "from bs4 import BeautifulSoup as bs\n",
    "from webdriver_manager.chrome import ChromeDriverManager\n",
    "import pandas as pd\n",
    "import requests\n",
    "import pymongo"
   ]
  },
  {
   "cell_type": "markdown",
   "id": "673a1bcb-faf2-4776-9533-cf40228533b0",
   "metadata": {},
   "source": [
    "### NASA Mars News"
   ]
  },
  {
   "cell_type": "code",
   "execution_count": 4,
   "id": "84e5ea68-88b9-42f8-8105-0c84e52f5409",
   "metadata": {},
   "outputs": [
    {
     "name": "stderr",
     "output_type": "stream",
     "text": [
      "\n",
      "\n",
      "====== WebDriver manager ======\n",
      "Current google-chrome version is 97.0.4692\n",
      "Get LATEST chromedriver version for 97.0.4692 google-chrome\n",
      "Driver [C:\\Users\\jlist\\.wdm\\drivers\\chromedriver\\win32\\97.0.4692.71\\chromedriver.exe] found in cache\n"
     ]
    }
   ],
   "source": [
    "executable_path = {'executable_path': ChromeDriverManager().install()}\n",
    "browser = Browser('chrome', **executable_path, headless=False)\n",
    "url = 'https://redplanetscience.com/'\n",
    "browser.visit(url)"
   ]
  },
  {
   "cell_type": "code",
   "execution_count": 5,
   "id": "512f21c1-a194-4f3d-bc2c-1dac836156dd",
   "metadata": {
    "jupyter": {
     "source_hidden": true
    },
    "tags": []
   },
   "outputs": [
    {
     "data": {
      "text/plain": [
       "'Mars 2020 Unwrapped and Ready for More Testing'"
      ]
     },
     "execution_count": 5,
     "metadata": {},
     "output_type": "execute_result"
    }
   ],
   "source": [
    "html = browser.html\n",
    "soup = bs(html, 'html.parser')\n",
    "\n",
    "news_title = soup.find('div', class_='content_title').text\n",
    "news_title"
   ]
  },
  {
   "cell_type": "code",
   "execution_count": 6,
   "id": "3042073c-dd10-4bc8-b2dd-567aafcb787d",
   "metadata": {},
   "outputs": [
    {
     "data": {
      "text/plain": [
       "\"In time-lapse video, bunny-suited engineers remove the inner layer of protective foil on NASA's Mars 2020 rover after it was relocated for testing.\""
      ]
     },
     "execution_count": 6,
     "metadata": {},
     "output_type": "execute_result"
    }
   ],
   "source": [
    "news_p = soup.find('div', class_='article_teaser_body').text\n",
    "news_p"
   ]
  },
  {
   "cell_type": "code",
   "execution_count": 7,
   "id": "8c57f7de-2a8d-4aa3-921f-232765560c13",
   "metadata": {},
   "outputs": [],
   "source": [
    "# Close the browser after scraping\n",
    "browser.quit()"
   ]
  },
  {
   "cell_type": "markdown",
   "id": "76dee409-7e42-40b7-8f04-0a4aa3e631fa",
   "metadata": {},
   "source": [
    "### JPL Mars Space Images - Featured Image"
   ]
  },
  {
   "cell_type": "code",
   "execution_count": 8,
   "id": "d1811b35-5cee-4d66-94c6-e94d0ac766d4",
   "metadata": {},
   "outputs": [
    {
     "name": "stderr",
     "output_type": "stream",
     "text": [
      "\n",
      "\n",
      "====== WebDriver manager ======\n",
      "Current google-chrome version is 97.0.4692\n",
      "Get LATEST chromedriver version for 97.0.4692 google-chrome\n",
      "Driver [C:\\Users\\jlist\\.wdm\\drivers\\chromedriver\\win32\\97.0.4692.71\\chromedriver.exe] found in cache\n"
     ]
    }
   ],
   "source": [
    "executable_path = {'executable_path': ChromeDriverManager().install()}\n",
    "browser = Browser('chrome', **executable_path, headless=False)\n",
    "url = 'https://spaceimages-mars.com/'\n",
    "browser.visit(url)"
   ]
  },
  {
   "cell_type": "code",
   "execution_count": 9,
   "id": "7873c83b-bf44-4b6d-ab4b-af298cc859e3",
   "metadata": {},
   "outputs": [
    {
     "data": {
      "text/plain": [
       "'https://spaceimages-mars.com/image/featured/mars1.jpg'"
      ]
     },
     "execution_count": 9,
     "metadata": {},
     "output_type": "execute_result"
    }
   ],
   "source": [
    "html = browser.html\n",
    "soup = bs(html, 'html.parser')\n",
    "\n",
    "featured_image_url = soup.find('img', class_='headerimage')['src']\n",
    "\n",
    "complete_img_url_string = url + featured_image_url\n",
    "complete_img_url_string"
   ]
  },
  {
   "cell_type": "code",
   "execution_count": 10,
   "id": "5a1094ee-8c28-4302-b6b9-9567293ea444",
   "metadata": {},
   "outputs": [],
   "source": [
    "# Close the browser after scraping\n",
    "browser.quit()"
   ]
  },
  {
   "cell_type": "markdown",
   "id": "75d72656-0a63-4649-87e4-01b8dcb08ec0",
   "metadata": {},
   "source": [
    "### Mars Facts"
   ]
  },
  {
   "cell_type": "code",
   "execution_count": 11,
   "id": "b4e5a125-e954-4037-8d76-4cc7a7bc6ac9",
   "metadata": {},
   "outputs": [
    {
     "data": {
      "text/html": [
       "<div>\n",
       "<style scoped>\n",
       "    .dataframe tbody tr th:only-of-type {\n",
       "        vertical-align: middle;\n",
       "    }\n",
       "\n",
       "    .dataframe tbody tr th {\n",
       "        vertical-align: top;\n",
       "    }\n",
       "\n",
       "    .dataframe thead th {\n",
       "        text-align: right;\n",
       "    }\n",
       "</style>\n",
       "<table border=\"1\" class=\"dataframe\">\n",
       "  <thead>\n",
       "    <tr style=\"text-align: right;\">\n",
       "      <th></th>\n",
       "      <th>0</th>\n",
       "      <th>1</th>\n",
       "      <th>2</th>\n",
       "    </tr>\n",
       "  </thead>\n",
       "  <tbody>\n",
       "    <tr>\n",
       "      <th>0</th>\n",
       "      <td>Mars - Earth Comparison</td>\n",
       "      <td>Mars</td>\n",
       "      <td>Earth</td>\n",
       "    </tr>\n",
       "    <tr>\n",
       "      <th>1</th>\n",
       "      <td>Diameter:</td>\n",
       "      <td>6,779 km</td>\n",
       "      <td>12,742 km</td>\n",
       "    </tr>\n",
       "    <tr>\n",
       "      <th>2</th>\n",
       "      <td>Mass:</td>\n",
       "      <td>6.39 × 10^23 kg</td>\n",
       "      <td>5.97 × 10^24 kg</td>\n",
       "    </tr>\n",
       "    <tr>\n",
       "      <th>3</th>\n",
       "      <td>Moons:</td>\n",
       "      <td>2</td>\n",
       "      <td>1</td>\n",
       "    </tr>\n",
       "    <tr>\n",
       "      <th>4</th>\n",
       "      <td>Distance from Sun:</td>\n",
       "      <td>227,943,824 km</td>\n",
       "      <td>149,598,262 km</td>\n",
       "    </tr>\n",
       "    <tr>\n",
       "      <th>5</th>\n",
       "      <td>Length of Year:</td>\n",
       "      <td>687 Earth days</td>\n",
       "      <td>365.24 days</td>\n",
       "    </tr>\n",
       "    <tr>\n",
       "      <th>6</th>\n",
       "      <td>Temperature:</td>\n",
       "      <td>-87 to -5 °C</td>\n",
       "      <td>-88 to 58°C</td>\n",
       "    </tr>\n",
       "  </tbody>\n",
       "</table>\n",
       "</div>"
      ],
      "text/plain": [
       "                         0                1                2\n",
       "0  Mars - Earth Comparison             Mars            Earth\n",
       "1                Diameter:         6,779 km        12,742 km\n",
       "2                    Mass:  6.39 × 10^23 kg  5.97 × 10^24 kg\n",
       "3                   Moons:                2                1\n",
       "4       Distance from Sun:   227,943,824 km   149,598,262 km\n",
       "5          Length of Year:   687 Earth days      365.24 days\n",
       "6             Temperature:     -87 to -5 °C      -88 to 58°C"
      ]
     },
     "execution_count": 11,
     "metadata": {},
     "output_type": "execute_result"
    }
   ],
   "source": [
    "url = 'https://galaxyfacts-mars.com/'\n",
    "tables = pd.read_html(url) \n",
    "df = tables[0]\n",
    "df"
   ]
  },
  {
   "cell_type": "markdown",
   "id": "7a5b5d7f-fc14-4961-829a-c12543f0f2af",
   "metadata": {},
   "source": [
    "### Mars Hemispheres"
   ]
  },
  {
   "cell_type": "code",
   "execution_count": 12,
   "id": "86d49ae0-97a4-4d36-ba52-1fe4aa472740",
   "metadata": {
    "tags": []
   },
   "outputs": [],
   "source": [
    "# executable_path = {'executable_path': ChromeDriverManager().install()}\n",
    "browser = Browser('chrome', **executable_path, headless=False) # opens a browser window\n",
    "url = 'https://marshemispheres.com/cerberus.html' \n",
    "browser.visit(url)"
   ]
  },
  {
   "cell_type": "code",
   "execution_count": 13,
   "id": "e7fdb7f9-8fe4-4ae0-82ab-4fd26633bd0f",
   "metadata": {},
   "outputs": [
    {
     "data": {
      "text/plain": [
       "'https://marshemispheres.com/images/f5e372a36edfa389625da6d0cc25d905_cerberus_enhanced.tif_full.jpg'"
      ]
     },
     "execution_count": 13,
     "metadata": {},
     "output_type": "execute_result"
    }
   ],
   "source": [
    "html = browser.html\n",
    "soup = bs(html, 'html.parser') # https://marshemispheres.com/\n",
    "\n",
    "href = soup.find('img', class_='wide-image')['src'] # soup.find_all('a')[4]['href'] \n",
    "cerberusimg = 'https://marshemispheres.com/' + href\n",
    "cerberusimg"
   ]
  },
  {
   "cell_type": "code",
   "execution_count": 14,
   "id": "11197f7c-cd45-49d4-8452-a534c8f8e1f8",
   "metadata": {},
   "outputs": [
    {
     "data": {
      "text/plain": [
       "'Cerberus Hemisphere Enhanced'"
      ]
     },
     "execution_count": 14,
     "metadata": {},
     "output_type": "execute_result"
    }
   ],
   "source": [
    "cerberustitle=soup.find('h2',class_='title').text\n",
    "cerberustitle"
   ]
  },
  {
   "cell_type": "code",
   "execution_count": 15,
   "id": "1e6ebd88-9187-40cd-b302-88f0b51dab41",
   "metadata": {},
   "outputs": [],
   "source": [
    "# Close the browser after scraping\n",
    "browser.quit()"
   ]
  },
  {
   "cell_type": "code",
   "execution_count": 16,
   "id": "d5c8774e-05d4-4c2a-9738-d9d75e60bb16",
   "metadata": {},
   "outputs": [],
   "source": [
    "browser = Browser('chrome', **executable_path, headless=False) # opens a browser window\n",
    "url = 'https://marshemispheres.com/schiaparelli.html' \n",
    "browser.visit(url)"
   ]
  },
  {
   "cell_type": "code",
   "execution_count": 17,
   "id": "f42b9322-5c04-4f82-8e74-45d6054bd146",
   "metadata": {},
   "outputs": [
    {
     "data": {
      "text/plain": [
       "'https://marshemispheres.com/images/3778f7b43bbbc89d6e3cfabb3613ba93_schiaparelli_enhanced.tif_full.jpg'"
      ]
     },
     "execution_count": 17,
     "metadata": {},
     "output_type": "execute_result"
    }
   ],
   "source": [
    "html = browser.html\n",
    "soup = bs(html, 'html.parser') # https://marshemispheres.com/\n",
    "\n",
    "href = soup.find('img', class_='wide-image')['src'] # soup.find_all('a')[4]['href'] \n",
    "schiaparelliimg = 'https://marshemispheres.com/' + href\n",
    "schiaparelliimg"
   ]
  },
  {
   "cell_type": "code",
   "execution_count": 18,
   "id": "3e6c5925-4599-484a-9db1-1cf5f5329578",
   "metadata": {},
   "outputs": [
    {
     "data": {
      "text/plain": [
       "'Schiaparelli Hemisphere Enhanced'"
      ]
     },
     "execution_count": 18,
     "metadata": {},
     "output_type": "execute_result"
    }
   ],
   "source": [
    "schiaparellititle=soup.find('h2',class_='title').text\n",
    "schiaparellititle"
   ]
  },
  {
   "cell_type": "code",
   "execution_count": 19,
   "id": "c03a00e7-9b7c-4109-a82c-1fa3efd11a52",
   "metadata": {},
   "outputs": [],
   "source": [
    "# Close the browser after scraping\n",
    "browser.quit()"
   ]
  },
  {
   "cell_type": "code",
   "execution_count": 20,
   "id": "3cb54f51-2639-43bd-9e66-dcd7db63fbaa",
   "metadata": {},
   "outputs": [],
   "source": [
    "browser = Browser('chrome', **executable_path, headless=False) # opens a browser window\n",
    "url = 'https://marshemispheres.com/syrtis.html' \n",
    "browser.visit(url)"
   ]
  },
  {
   "cell_type": "code",
   "execution_count": 21,
   "id": "dcd49a76-78b5-4563-a596-13fd99b3a374",
   "metadata": {},
   "outputs": [
    {
     "data": {
      "text/plain": [
       "'https://marshemispheres.com/images/555e6403a6ddd7ba16ddb0e471cadcf7_syrtis_major_enhanced.tif_full.jpg'"
      ]
     },
     "execution_count": 21,
     "metadata": {},
     "output_type": "execute_result"
    }
   ],
   "source": [
    "html = browser.html\n",
    "soup = bs(html, 'html.parser') # https://marshemispheres.com/\n",
    "\n",
    "href = soup.find('img', class_='wide-image')['src'] # soup.find_all('a')[4]['href'] \n",
    "syrtisimg = 'https://marshemispheres.com/' + href\n",
    "syrtisimg"
   ]
  },
  {
   "cell_type": "code",
   "execution_count": 22,
   "id": "51a30c2f-4b14-414c-a8db-37353f9f5bd9",
   "metadata": {
    "tags": []
   },
   "outputs": [
    {
     "data": {
      "text/plain": [
       "'Syrtis Major Hemisphere Enhanced'"
      ]
     },
     "execution_count": 22,
     "metadata": {},
     "output_type": "execute_result"
    }
   ],
   "source": [
    "syrtistitle=soup.find('h2',class_='title').text\n",
    "syrtistitle"
   ]
  },
  {
   "cell_type": "code",
   "execution_count": 23,
   "id": "155f7a89-30f0-434b-882f-76f92f0efc9e",
   "metadata": {},
   "outputs": [],
   "source": [
    "# Close the browser after scraping\n",
    "browser.quit()"
   ]
  },
  {
   "cell_type": "code",
   "execution_count": 24,
   "id": "1645b3d1-d228-4bda-a1d7-4f397aa844e5",
   "metadata": {},
   "outputs": [],
   "source": [
    "browser = Browser('chrome', **executable_path, headless=False) # opens a browser window\n",
    "url = 'https://marshemispheres.com/valles.html' \n",
    "browser.visit(url) # Valles"
   ]
  },
  {
   "cell_type": "code",
   "execution_count": 25,
   "id": "e088f324-2e1f-4eed-b504-546c7d8d8b34",
   "metadata": {},
   "outputs": [
    {
     "data": {
      "text/plain": [
       "'https://marshemispheres.com/images/b3c7c6c9138f57b4756be9b9c43e3a48_valles_marineris_enhanced.tif_full.jpg'"
      ]
     },
     "execution_count": 25,
     "metadata": {},
     "output_type": "execute_result"
    }
   ],
   "source": [
    "html = browser.html\n",
    "soup = bs(html, 'html.parser') # https://marshemispheres.com/\n",
    "\n",
    "href = soup.find('img', class_='wide-image')['src'] # soup.find_all('a')[4]['href'] \n",
    "vallesimg = 'https://marshemispheres.com/' + href\n",
    "vallesimg"
   ]
  },
  {
   "cell_type": "code",
   "execution_count": 26,
   "id": "babd4165-a855-427e-b0bb-c746768bc1a9",
   "metadata": {},
   "outputs": [
    {
     "data": {
      "text/plain": [
       "'Valles Marineris Hemisphere Enhanced'"
      ]
     },
     "execution_count": 26,
     "metadata": {},
     "output_type": "execute_result"
    }
   ],
   "source": [
    "vallestitle=soup.find('h2',class_='title').text\n",
    "vallestitle"
   ]
  },
  {
   "cell_type": "code",
   "execution_count": 27,
   "id": "e19f4efc-a3c7-4dd1-9e6a-7c65130919d4",
   "metadata": {},
   "outputs": [],
   "source": [
    "# Close the browser after scraping\n",
    "browser.quit()"
   ]
  },
  {
   "cell_type": "markdown",
   "id": "412bd005-3484-4a1f-85af-80195b3e7085",
   "metadata": {},
   "source": [
    "# Save Mars Info as dictionary"
   ]
  },
  {
   "cell_type": "code",
   "execution_count": 28,
   "id": "594da2de-c546-4569-8de7-a4f125b7e3af",
   "metadata": {},
   "outputs": [],
   "source": [
    "hemisphere_image_urls = {\n",
    "    \"title\": \"Valles Marineris Hemisphere\", \"img_url\": vallesimg,\n",
    "    \"title\": \"Cerberus Hemisphere\", \"img_url\": cerberusimg,\n",
    "    \"title\": \"Schiaparelli Hemisphere\", \"img_url\": schiaparelliimg,\n",
    "    \"title\": \"Syrtis Major Hemisphere\", \"img_url\": syrtisimg\n",
    "    }"
   ]
  },
  {
   "cell_type": "code",
   "execution_count": 29,
   "id": "b5e5bbca-e209-4011-a988-b347d6eb46f7",
   "metadata": {
    "tags": []
   },
   "outputs": [
    {
     "data": {
      "text/plain": [
       "{'title': 'Syrtis Major Hemisphere',\n",
       " 'img_url': 'https://marshemispheres.com/images/555e6403a6ddd7ba16ddb0e471cadcf7_syrtis_major_enhanced.tif_full.jpg'}"
      ]
     },
     "execution_count": 29,
     "metadata": {},
     "output_type": "execute_result"
    }
   ],
   "source": [
    "hemisphere_image_urls"
   ]
  },
  {
   "cell_type": "code",
   "execution_count": 30,
   "id": "cd2e52b7-78c9-4f1d-983c-00cf1640de08",
   "metadata": {},
   "outputs": [],
   "source": [
    "mars1 = {\"News_Title\":news_title,\n",
    "    \"Text\":news_p,\n",
    "    \"Featured_Image\":complete_img_url_string,\n",
    "    \"Mars_Facts\":df,\n",
    "    \"Cerberus_Img\":cerberusimg,\n",
    "    \"Cerberus_Title\":cerberustitle,\n",
    "    \"Schiaparelli_Img\":schiaparelliimg,\n",
    "    \"Schiaparelli_Title\":schiaparellititle,\n",
    "    \"Syrtis_Img\":syrtisimg,\n",
    "    \"Syrtis_Title\":syrtistitle,\n",
    "    \"Valles_Img\":vallesimg,\n",
    "    \"Valles_Title\":vallestitle  \n",
    "}"
   ]
  },
  {
   "cell_type": "code",
   "execution_count": 31,
   "id": "8f244bfe-98ac-43e0-ab93-c0b4960c2c21",
   "metadata": {
    "tags": []
   },
   "outputs": [
    {
     "data": {
      "text/plain": [
       "{'News_Title': 'Mars 2020 Unwrapped and Ready for More Testing',\n",
       " 'Text': \"In time-lapse video, bunny-suited engineers remove the inner layer of protective foil on NASA's Mars 2020 rover after it was relocated for testing.\",\n",
       " 'Featured_Image': 'https://spaceimages-mars.com/image/featured/mars1.jpg',\n",
       " 'Mars_Facts':                          0                1                2\n",
       " 0  Mars - Earth Comparison             Mars            Earth\n",
       " 1                Diameter:         6,779 km        12,742 km\n",
       " 2                    Mass:  6.39 × 10^23 kg  5.97 × 10^24 kg\n",
       " 3                   Moons:                2                1\n",
       " 4       Distance from Sun:   227,943,824 km   149,598,262 km\n",
       " 5          Length of Year:   687 Earth days      365.24 days\n",
       " 6             Temperature:     -87 to -5 °C      -88 to 58°C,\n",
       " 'Cerberus_Img': 'https://marshemispheres.com/images/f5e372a36edfa389625da6d0cc25d905_cerberus_enhanced.tif_full.jpg',\n",
       " 'Cerberus_Title': 'Cerberus Hemisphere Enhanced',\n",
       " 'Schiaparelli_Img': 'https://marshemispheres.com/images/3778f7b43bbbc89d6e3cfabb3613ba93_schiaparelli_enhanced.tif_full.jpg',\n",
       " 'Schiaparelli_Title': 'Schiaparelli Hemisphere Enhanced',\n",
       " 'Syrtis_Img': 'https://marshemispheres.com/images/555e6403a6ddd7ba16ddb0e471cadcf7_syrtis_major_enhanced.tif_full.jpg',\n",
       " 'Syrtis_Title': 'Syrtis Major Hemisphere Enhanced',\n",
       " 'Valles_Img': 'https://marshemispheres.com/images/b3c7c6c9138f57b4756be9b9c43e3a48_valles_marineris_enhanced.tif_full.jpg',\n",
       " 'Valles_Title': 'Valles Marineris Hemisphere Enhanced'}"
      ]
     },
     "execution_count": 31,
     "metadata": {},
     "output_type": "execute_result"
    }
   ],
   "source": [
    "mars1"
   ]
  },
  {
   "cell_type": "code",
   "execution_count": null,
   "id": "ad9902d0-785e-40ae-88ae-4257d02a9e5d",
   "metadata": {},
   "outputs": [],
   "source": []
  }
 ],
 "metadata": {
  "kernelspec": {
   "display_name": "Python 3",
   "language": "python",
   "name": "python3"
  },
  "language_info": {
   "codemirror_mode": {
    "name": "ipython",
    "version": 3
   },
   "file_extension": ".py",
   "mimetype": "text/x-python",
   "name": "python",
   "nbconvert_exporter": "python",
   "pygments_lexer": "ipython3",
   "version": "3.8.8"
  },
  "widgets": {
   "application/vnd.jupyter.widget-state+json": {
    "state": {},
    "version_major": 2,
    "version_minor": 0
   }
  }
 },
 "nbformat": 4,
 "nbformat_minor": 5
}
